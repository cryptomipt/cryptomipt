{
 "cells": [
  {
   "cell_type": "code",
   "execution_count": null,
   "metadata": {
    "collapsed": true
   },
   "outputs": [],
   "source": [
    "import cryptomipt.environments as envs\n",
    "from cryptomipt.backtest import Backtest\n",
    "from cryptomipt.traders import Trader, Random_trader"
   ]
  },
  {
   "cell_type": "markdown",
   "metadata": {},
   "source": [
    "#### Import ccxt to trade on real exchange"
   ]
  },
  {
   "cell_type": "code",
   "execution_count": null,
   "metadata": {},
   "outputs": [],
   "source": [
    "import ccxt"
   ]
  },
  {
   "cell_type": "code",
   "execution_count": 3,
   "metadata": {},
   "outputs": [],
   "source": [
    "kraken = ccxt.kraken({\n",
    "    'apiKey': \"P2sWdwpyNVAKLYM6SB2K9aRsckdwGd2LAwLILhHeJAmrpTDYDFCs7UiB\",\n",
    "    'secret': \"LlnttcO8w30e2M6doVDK5PvDJ9p3VPjCzxhX5hsLu6MLQ1zE/eL5a26gOGVFIxcEVBqETHUwPtwz/Z/0JFkXqg==\",\n",
    "    'verbose': False,  # switch it to False if you don't want the HTTP log\n",
    "})"
   ]
  },
  {
   "cell_type": "markdown",
   "metadata": {},
   "source": [
    "#### Or use cryptomipt.environments.kraken to emulate exchange on backtest"
   ]
  },
  {
   "cell_type": "code",
   "execution_count": null,
   "metadata": {},
   "outputs": [],
   "source": [
    "kraken = envs.kraken(\n",
    "   time_from='2018-02-10',\n",
    "   time_to='2018-02-11',\n",
    "   second_balance={'ZUSD': 100},\n",
    "   latency=0\n",
    ")"
   ]
  },
  {
   "cell_type": "markdown",
   "metadata": {},
   "source": [
    "#### Init backtest"
   ]
  },
  {
   "cell_type": "code",
   "execution_count": null,
   "metadata": {},
   "outputs": [],
   "source": [
    "bt = Backtest(\n",
    "    kraken,\n",
    "    pair='BCH/USD',\n",
    "    max_trades=10000,\n",
    "    trade_size=5,\n",
    "    base_symbol='ZUSD',\n",
    "    log_balance_every_orderbook=10,\n",
    "    time_between_requests=0,\n",
    "    request_pool_size=100  # if request_pool_size == 1 test works as it is synchronous one\n",
    ")"
   ]
  },
  {
   "cell_type": "markdown",
   "metadata": {},
   "source": [
    "#### Run environment and test"
   ]
  },
  {
   "cell_type": "code",
   "execution_count": null,
   "metadata": {},
   "outputs": [],
   "source": [
    "trader = Random_trader(predict_proba=1)\n",
    "result = bt.test(trader)"
   ]
  },
  {
   "cell_type": "markdown",
   "metadata": {},
   "source": [
    "#### Make your own trader\n",
    "- Inherit the Trader class\n",
    "- On each step receive orderbook and ticker\n",
    "- Return action"
   ]
  },
  {
   "cell_type": "code",
   "execution_count": null,
   "metadata": {},
   "outputs": [],
   "source": [
    "class my_own_trader(Trader):\n",
    "\n",
    "    def __init__(self):\n",
    "        super(my_own_trader, self).__init__()\n",
    "\n",
    "    # required method\n",
    "    def action(self):\n",
    "        # self.ticker contains the current ticker data\n",
    "        # self.ask_volumes, self.bid_volumes, self.ask_prices, self.bid_prices contains current orderbook\n",
    "        return 0 # or -1 or 1"
   ]
  },
  {
   "cell_type": "markdown",
   "metadata": {},
   "source": [
    "Pass it to the test"
   ]
  },
  {
   "cell_type": "code",
   "execution_count": null,
   "metadata": {},
   "outputs": [],
   "source": [
    "trader = my_own_trader() # it will simply hodl\n",
    "result = bt.test(trader)"
   ]
  }
 ],
 "metadata": {
  "kernelspec": {
   "display_name": "Python 3",
   "language": "python",
   "name": "python3"
  },
  "language_info": {
   "codemirror_mode": {
    "name": "ipython",
    "version": 3
   },
   "file_extension": ".py",
   "mimetype": "text/x-python",
   "name": "python",
   "nbconvert_exporter": "python",
   "pygments_lexer": "ipython3",
   "version": "3.6.3"
  }
 },
 "nbformat": 4,
 "nbformat_minor": 2
}
