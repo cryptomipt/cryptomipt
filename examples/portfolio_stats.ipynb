{
 "cells": [
  {
   "cell_type": "code",
   "execution_count": 6,
   "metadata": {},
   "outputs": [],
   "source": [
    "import json\n",
    "import cryptomipt.statstools.stats as stats"
   ]
  },
  {
   "cell_type": "code",
   "execution_count": 7,
   "metadata": {},
   "outputs": [],
   "source": [
    "with open('../cryptomipt/statstools/keys.json', 'r') as fin:\n",
    "    keys = json.load(fin)"
   ]
  },
  {
   "cell_type": "code",
   "execution_count": 8,
   "metadata": {},
   "outputs": [
    {
     "name": "stdout",
     "output_type": "stream",
     "text": [
      "Exchange: \n",
      "Failed to get data for . Reason: binance requires `apiKey`\n"
     ]
    }
   ],
   "source": [
    "for key in keys:\n",
    "    exchange = stats.login(key)\n",
    "    # TODO: add colors to this line\n",
    "    print('Exchange: {}'.format(key['Description']))\n",
    "\n",
    "    try:\n",
    "        change_info = stats.get_portfolio_info(exchange)\n",
    "        stats.print_portfolio_info(change_info)\n",
    "    except Exception as e:\n",
    "        print('Failed to get data for {}. Reason: {}'.format(key['Description'], e))\n",
    "        continue\n",
    "    print()"
   ]
  }
 ],
 "metadata": {
  "kernelspec": {
   "display_name": "Python 3",
   "language": "python",
   "name": "python3"
  },
  "language_info": {
   "codemirror_mode": {
    "name": "ipython",
    "version": 3
   },
   "file_extension": ".py",
   "mimetype": "text/x-python",
   "name": "python",
   "nbconvert_exporter": "python",
   "pygments_lexer": "ipython3",
   "version": "3.6.3"
  }
 },
 "nbformat": 4,
 "nbformat_minor": 2
}
